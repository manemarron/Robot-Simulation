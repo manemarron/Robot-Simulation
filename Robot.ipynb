{
 "worksheets": [
  {
   "cells": [
    {
     "cell_type": "code",
     "execution_count": null,
     "metadata": {},
     "outputs": [
      {
       "output_type": "stream",
       "stream": "stdout",
       "text": [
        "Populating the interactive namespace from numpy and matplotlib\n"
       ]
      }
     ],
     "input": [
      "%pylab inline\n",
      "import numpy as np\n",
      "import matplotlib.pyplot as pl"
     ],
     "language": "python",
     "prompt_number": 1
    },
    {
     "cell_type": "code",
     "execution_count": null,
     "metadata": {},
     "outputs": [],
     "input": [
      "class Robot:\n",
      "    def __init__(self,km,ke,Mp,Mw,Ip,Iw,l,r,R,g): \n",
      "        ''' \n",
      "        Se inicializan las constantes físicas del chasis, llantas y motores del sistema.\n",
      "        Parámetros:\n",
      "        - km: constante de torque de los motores\n",
      "        - ke: constante de fuerza contraelectromotriz\n",
      "        - Mp: masa del chasis (incluyendo motores y llantas)\n",
      "        - Mw: masa de la llanta\n",
      "        - Ip: momento de inercia del robot\n",
      "        - Iw: momento de inercia de las llantas\n",
      "        - l:  distancia entre el centro de gravedad de la llanta y el centro de gravedad del robot\n",
      "        - r:  radio de la llanta\n",
      "        - R:  Resistencia nominal\n",
      "        - g:  constante de aceleración de la gravedad\n",
      "        '''\n",
      "        self.km = km\n",
      "        self.ke = ke\n",
      "        self.Mp = Mp\n",
      "        self.Mw = Mw\n",
      "        self.Ip = Ip\n",
      "        self.Iw = Iw\n",
      "        self.l  = l\n",
      "        self.r  = r\n",
      "        self.R  = R\n",
      "        self.g  = g\n",
      "        \n",
      "        beta  = 2*Mw + 2*Iw/r**2 + Mp\n",
      "        alpha = Ip*beta + 2*Mp*l**2*(Mw + Iw/r**2)\n",
      "        \n",
      "        self._init_A(km,ke,Mp,Mw,Ip,Iw,l,r,R,g,alpha,beta)\n",
      "        self._init_B(km,ke,Mp,Mw,Ip,Iw,l,r,R,g,alpha,beta)\n",
      "    \n",
      "    def _init_A(self,km,ke,Mp,Mw,Ip,Iw,l,r,R,g,alpha,beta):        \n",
      "        a22 = 2*km*ke*(Mp*l*r - Ip - Mp*l**2)/(R*alpha*r**2)\n",
      "        a23 = Mp**2 * g * l**2 / alpha\n",
      "        a42 = 2*km*ke*(r*beta - Mp*l)/(R*alpha*r**2)\n",
      "        a43 = Mp*g*l*beta/alpha\n",
      "        \n",
      "        self.A = np.matrix([\n",
      "            [0,   1,   0, 0],\n",
      "            [0, a22, a23, 0],\n",
      "            [0,   0,   0, 1],\n",
      "            [0, a42, a43, 0],\n",
      "        ])\n",
      "         \n",
      "    def _init_B(self,km,ke,Mp,Mw,Ip,Iw,l,r,R,g,alpha,beta):\n",
      "        b2 = 2*km*(Ip + Mp*l**2 - Mp*l*r)/(R*r*alpha)\n",
      "        b4 = 2*km*(Mp*l - r*beta)/(R*r*alpha)\n",
      "        \n",
      "        self.B = np.matrix([0,b2,0,b4]).T\n",
      "        \n",
      "    def dinamica(self, state, t, u=0):\n",
      "        return self.A*state + self.B*u    \n",
      "    \n",
      "    def RK4(self, f, y, t, dt):\n",
      "        k1 = f(y,t)\n",
      "        k2 = f(y + 0.5*k1*dt,t+0.5*dt)\n",
      "        k3 = f(y + 0.5*k2*dt,t+0.5*dt)\n",
      "        k4 = f(y + k3*dt,t+dt)\n",
      "        \n",
      "        res = y + float(1)/6*dt*(k1+2*k2+2*k3+k4)\n",
      "        return res\n",
      "    \n",
      "    def integrar(self,n,state,dt):\n",
      "        historico = np.array([state])\n",
      "        for i in range(n):\n",
      "            state = self.RK4(self.dinamica,state,i,dt)\n",
      "            historico = np.append(historico, [state],axis=0)\n",
      "        return historico\n",
      "    \n",
      "    def estabilizacionEnLineaRecta(self,n,state,dt):\n",
      "        historico = np.array([state])\n",
      "        sensor = np.array([np.array([0, 0, 0, self.sensorGiroscopio(state[2]), 0, 0]).reshape(3,2)])\n",
      "        for i in range(n):\n",
      "            y = self.dinamica(state,i,dt)\n",
      "            state = self.RK4(self.dinamica,state,i,dt)\n",
      "            historico = np.append(historico, [state],axis=0)\n",
      "            \n",
      "            theta = self.sensorGiroscopio(state[2])\n",
      "            ace = self.sensorAcelerometro(y[1])\n",
      "            sensor = np.append(sensor,[np.array([0, 0, ace, theta, 0, 0 ]).reshape(3,2)],axis=0)\n",
      "        return historico, sensor\n",
      "    \n",
      "    def sensorGiroscopio(self,theta):\n",
      "        thetaM=theta+np.random.randn()*0.01\n",
      "        return thetaM\n",
      "    \n",
      "    def sensorAcelerometro(self,a):\n",
      "        aM=a+np.random.randn()*0.01\n",
      "        return aM"
     ],
     "language": "python",
     "prompt_number": 2
    },
    {
     "cell_type": "code",
     "execution_count": null,
     "metadata": {},
     "outputs": [],
     "input": [
      "r = Robot(km=0.006123,ke=0.006087,Mp=1.13,Mw=0.03,Ip=0.0041,Iw=0.000039,l=0.07,r=0.051,R=3,g=9.81)"
     ],
     "language": "python",
     "prompt_number": 3
    },
    {
     "cell_type": "code",
     "execution_count": null,
     "metadata": {},
     "outputs": [],
     "input": [
      "initial_state = np.matrix([0,0,np.pi/10,0]).T\n",
      "n = 200\n",
      "dt = 0.001"
     ],
     "language": "python",
     "prompt_number": 4
    },
    {
     "cell_type": "code",
     "execution_count": null,
     "metadata": {},
     "outputs": [],
     "input": [
      "hist = r.integrar(n,initial_state,dt)"
     ],
     "language": "python",
     "prompt_number": 5
    },
    {
     "cell_type": "code",
     "execution_count": null,
     "metadata": {},
     "outputs": [],
     "input": [
      "hist2,sensor2 = r.estabilizacionEnLineaRecta(n,initial_state,dt)"
     ],
     "language": "python",
     "prompt_number": 6
    },
    {
     "cell_type": "code",
     "execution_count": null,
     "metadata": {},
     "outputs": [
      {
       "output_type": "pyout",
       "prompt_number": 7,
       "text": [
        "<matplotlib.text.Text at 0x7fa91ce024d0>"
       ],
       "metadata": {}
      },
      {
       "output_type": "display_data",
       "png": "[encoded data removed]",
       "text": [
        "<matplotlib.figure.Figure at 0x7fa9327d5f10>"
       ],
       "metadata": {}
      }
     ],
     "input": [
      "pl.plot(np.linspace(0,n*dt,n+1),hist2[:,0])\n",
      "pl.xlabel(\"t(s)\")\n",
      "pl.ylabel(\"x(m)\")"
     ],
     "language": "python",
     "prompt_number": 7
    },
    {
     "cell_type": "code",
     "execution_count": null,
     "metadata": {},
     "outputs": [
      {
       "output_type": "pyout",
       "prompt_number": 8,
       "text": [
        "<matplotlib.text.Text at 0x7fa91cd9a090>"
       ],
       "metadata": {}
      },
      {
       "output_type": "display_data",
       "png": "[encoded data removed]",
       "text": [
        "<matplotlib.figure.Figure at 0x7fa91ce02ad0>"
       ],
       "metadata": {}
      }
     ],
     "input": [
      "pl.plot(np.linspace(0,n*dt,n+1),hist2[:,1])\n",
      "pl.xlabel(\"t(s)\")\n",
      "pl.ylabel(\"v(m/s)\")"
     ],
     "language": "python",
     "prompt_number": 8
    },
    {
     "cell_type": "code",
     "execution_count": null,
     "metadata": {},
     "outputs": [
      {
       "output_type": "pyout",
       "prompt_number": 9,
       "text": [
        "<matplotlib.text.Text at 0x7fa91ccaa210>"
       ],
       "metadata": {}
      },
      {
       "output_type": "display_data",
       "png": "[encoded data removed]",
       "text": [
        "<matplotlib.figure.Figure at 0x7fa91ce3b850>"
       ],
       "metadata": {}
      }
     ],
     "input": [
      "pl.plot(np.linspace(0,n*dt,n+1),hist2[:,2])\n",
      "pl.plot(np.linspace(0,n*dt,n+1),sensor2[:,1,1])\n",
      "pl.xlabel(\"t(s)\")\n",
      "pl.ylabel(\"phi(rad)\")"
     ],
     "language": "python",
     "prompt_number": 9
    },
    {
     "cell_type": "code",
     "execution_count": null,
     "metadata": {},
     "outputs": [
      {
       "output_type": "pyout",
       "prompt_number": 10,
       "text": [
        "<matplotlib.text.Text at 0x7fa91ccf8510>"
       ],
       "metadata": {}
      },
      {
       "output_type": "display_data",
       "png": "[encoded data removed]",
       "text": [
        "<matplotlib.figure.Figure at 0x7fa91cd07ed0>"
       ],
       "metadata": {}
      }
     ],
     "input": [
      "pl.plot(np.linspace(0,n*dt,n+1),hist[:,3])\n",
      "pl.xlabel(\"t(s)\")\n",
      "pl.ylabel(\"omega(rad/s)\")"
     ],
     "language": "python",
     "prompt_number": 10
    }
   ]
  }
 ],
 "cells": [],
 "metadata": {
  "name": "",
  "signature": "sha256:1bcf8f635ab77b8b0cb63f39ab461d4aad0bab25e6f7c667be14567071a4faa1"
 },
 "nbformat": 3,
 "nbformat_minor": 0
}