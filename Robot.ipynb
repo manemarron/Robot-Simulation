{
 "metadata": {
  "name": "",
  "signature": "sha256:7775f6898ddbfbbff0d5535698ae633b86d74f5b571ff363a1c9ac328c69bae0"
 },
 "nbformat": 3,
 "nbformat_minor": 0,
 "worksheets": [
  {
   "cells": [
    {
     "cell_type": "code",
     "collapsed": false,
     "input": [
      "%pylab inline\n",
      "import numpy as np\n",
      "import matplotlib.pyplot as pl"
     ],
     "language": "python",
     "metadata": {},
     "outputs": [
      {
       "output_type": "stream",
       "stream": "stdout",
       "text": [
        "Populating the interactive namespace from numpy and matplotlib\n"
       ]
      }
     ],
     "prompt_number": 49
    },
    {
     "cell_type": "code",
     "collapsed": false,
     "input": [
      "class robot():\n",
      "    def __init__(self, mk,mn,l,r,u,b):\n",
      "        \n",
      "        ''' \n",
      "        mk: masa del motor\n",
      "        mn: masa del chasis\n",
      "        l: distancia entre el centro de masa y el centro de las llantas\n",
      "        r: radio de las llantas\n",
      "        g: gravedad\n",
      "        xhist: historial de iteraciones\n",
      "        '''\n",
      "        self.mk = mk\n",
      "        self.mn = mn\n",
      "        self.l = l\n",
      "        self.r = r\n",
      "        self.u = u\n",
      "        self.b = b\n",
      "        self.g = 9.81\n",
      "        self.xhist = []\n",
      "        \n",
      "    def a22(self):\n",
      "        return -10*self.b/(14*self.mk+5*self.mn)\n",
      "    def a23(self):\n",
      "        return -5*self.mn/(14*self.mk+5*self.mn)\n",
      "    def a42(self):\n",
      "        return 5*self.b/(14*self.mk*self.l+5*self.mn*self.l)\n",
      "    def a43(self):\n",
      "        return (7*self.g*self.mk + 5*self.g*self.mn)/(14*self.mk*self.l+5*self.mn*self.l)\n",
      "    def b2(self):\n",
      "        return -(10*self.l + 5*self.r)/(14*self.mk*self.r + 5*self.mn*self.r*self.l)\n",
      "    def b4(self):\n",
      "        return -(5*self.l*self.mn + 7*self.mk*self.r + 5*self.mn*self.r)/(14*self.l*self.l*self.mk*self.mn*self.r + 5*self.l*self.l*self.mn*self.mn*self.r)\n",
      "    \n",
      "    def A(self):\n",
      "        return np.matrix([[0,1,0,0],[0,self.a22(),self.a23(),0],[0,0,0,1],[0,self.a42(),self.a43(),0]])\n",
      "    def B(self):\n",
      "        return np.matrix([0,self.b2(),0,self.b4()]).T\n",
      "    \n",
      "    def RK4(self,dinamica,state,t, dt):\n",
      "        #for i in range(3):\n",
      "        k1 = dinamica(state,t)\n",
      "        k2 = dinamica(state + 0.5*k1*dt,t+0.5*dt)\n",
      "        k3 = dinamica(state + 0.5*k2*dt,t+0.5*dt)\n",
      "        k4 = dinamica(state + k3*dt,t+dt)\n",
      "        \n",
      "        return state+(float(1)/6)*dt*(k1+2*k2+2*k3+k4)\n",
      "    \n",
      "    def integrar(self,n,state,dt):\n",
      "        self.xhist.append(state)\n",
      "        for i in range(n):\n",
      "            state = self.RK4(self.dinamica,state,i,dt)\n",
      "            self.xhist.append(state)\n",
      "            \n",
      "        self.xhist = np.array(self.xhist)\n",
      "    \n",
      "    def graficapos(self):\n",
      "        pl.plot(np.arange(len(self.xhist)),self.xhist[:,0])\n",
      "        \n",
      "    def graficavel(self):\n",
      "        pl.plot(np.arange(len(self.xhist)),self.xhist[:,1])\n",
      "        \n",
      "    def graficaposangular(self):\n",
      "        pl.plot(np.arange(len(self.xhist)),self.xhist[:,2])\n",
      "        \n",
      "    def graficavelangular(self):\n",
      "        pl.plot(np.arange(len(self.xhist)),self.xhist[:,3])\n",
      "         \n",
      "    \n",
      "    def dinamica(self, state, t):\n",
      "        return self.A()*state+self.B()*self.u\n"
     ],
     "language": "python",
     "metadata": {},
     "outputs": [],
     "prompt_number": 128
    },
    {
     "cell_type": "code",
     "collapsed": false,
     "input": [
      "m = np.matrix([1,0.01,1,0.01]).T\n",
      "r = robot(0.671*2,4.325,0.015,0.07747,1,0.0001)"
     ],
     "language": "python",
     "metadata": {},
     "outputs": [],
     "prompt_number": 174
    },
    {
     "cell_type": "code",
     "collapsed": false,
     "input": [
      "r.integrar(10,m,0.5)"
     ],
     "language": "python",
     "metadata": {},
     "outputs": [],
     "prompt_number": 175
    },
    {
     "cell_type": "code",
     "collapsed": false,
     "input": [
      "r.graficapos()"
     ],
     "language": "python",
     "metadata": {},
     "outputs": [
      {
       "metadata": {},
       "output_type": "display_data",
       "png": "[encoded data removed]",
       "text": [
        "<matplotlib.figure.Figure at 0x7fd960cab050>"
       ]
      }
     ],
     "prompt_number": 176
    },
    {
     "cell_type": "code",
     "collapsed": false,
     "input": [
      "r.graficavel()"
     ],
     "language": "python",
     "metadata": {},
     "outputs": [
      {
       "metadata": {},
       "output_type": "display_data",
       "png": "[encoded data removed]",
       "text": [
        "<matplotlib.figure.Figure at 0x7fd960d90990>"
       ]
      }
     ],
     "prompt_number": 177
    },
    {
     "cell_type": "code",
     "collapsed": false,
     "input": [
      "r.graficaposangular()"
     ],
     "language": "python",
     "metadata": {},
     "outputs": [
      {
       "metadata": {},
       "output_type": "display_data",
       "png": "[encoded data removed]",
       "text": [
        "<matplotlib.figure.Figure at 0x7fd960d4a250>"
       ]
      }
     ],
     "prompt_number": 178
    },
    {
     "cell_type": "code",
     "collapsed": false,
     "input": [
      "r.graficavelangular()"
     ],
     "language": "python",
     "metadata": {},
     "outputs": [
      {
       "metadata": {},
       "output_type": "display_data",
       "png": "[encoded data removed]",
       "text": [
        "<matplotlib.figure.Figure at 0x7fd960e7c7d0>"
       ]
      }
     ],
     "prompt_number": 179
    },
    {
     "cell_type": "code",
     "collapsed": false,
     "input": [],
     "language": "python",
     "metadata": {},
     "outputs": [],
     "prompt_number": 150
    },
    {
     "cell_type": "code",
     "collapsed": false,
     "input": [],
     "language": "python",
     "metadata": {},
     "outputs": []
    }
   ],
   "metadata": {}
  }
 ]
}