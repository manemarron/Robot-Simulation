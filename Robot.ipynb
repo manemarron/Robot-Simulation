{
 "worksheets": [
  {
   "cells": [
    {
     "cell_type": "code",
     "execution_count": null,
     "metadata": {},
     "outputs": [
      {
       "output_type": "stream",
       "stream": "stdout",
       "text": [
        "Populating the interactive namespace from numpy and matplotlib\n"
       ]
      }
     ],
     "input": [
      "%pylab inline\n",
      "import numpy as np\n",
      "import matplotlib.pyplot as pl"
     ],
     "language": "python",
     "prompt_number": 2
    },
    {
     "cell_type": "code",
     "execution_count": null,
     "metadata": {},
     "outputs": [],
     "input": [
      "class Robot:\n",
      "    def __init__(self, km, ke, Mp, Mw, Ip, Iw, l, r, R, g):\n",
      "        ''' \n",
      "        Se inicializan las constantes físicas del chasis, llantas y motores del sistema.\n",
      "        Parámetros:\n",
      "        - km: constante de torque de los motores\n",
      "        - ke: constante de fuerza contraelectromotriz\n",
      "        - Mp: masa del chasis (incluyendo motores y llantas)\n",
      "        - Mw: masa de la llanta\n",
      "        - Ip: momento de inercia del robot\n",
      "        - Iw: momento de inercia de las llantas\n",
      "        - l:  distancia entre el centro de gravedad de la llanta y el centro de gravedad del robot\n",
      "        - r:  radio de la llanta\n",
      "        - R:  Resistencia nominal\n",
      "        - g:  constante de aceleración de la gravedad\n",
      "        '''\n",
      "        self.km = km\n",
      "        self.ke = ke\n",
      "        self.Mp = Mp\n",
      "        self.Mw = Mw\n",
      "        self.Ip = Ip\n",
      "        self.Iw = Iw\n",
      "        self.l = l\n",
      "        self.r = r\n",
      "        self.R = R\n",
      "        self.g = g\n",
      "\n",
      "        beta = 2 * Mw + 2 * Iw / r ** 2 + Mp\n",
      "        alpha = Ip * beta + 2 * Mp * l ** 2 * (Mw + Iw / r ** 2)\n",
      "\n",
      "        self._init_A(km, ke, Mp, Mw, Ip, Iw, l, r, R, g, alpha, beta)\n",
      "        self._init_B(km, ke, Mp, Mw, Ip, Iw, l, r, R, g, alpha, beta)\n",
      "\n",
      "    def _init_A(self, km, ke, Mp, Mw, Ip, Iw, l, r, R, g, alpha, beta):\n",
      "        a22 = 2 * km * ke * (Mp * l * r - Ip - Mp * l ** 2) / (R * alpha * r ** 2)\n",
      "        a23 = Mp ** 2 * g * l ** 2 / alpha\n",
      "        a42 = 2 * km * ke * (r * beta - Mp * l) / (R * alpha * r ** 2)\n",
      "        a43 = Mp * g * l * beta / alpha\n",
      "\n",
      "        self.A = np.matrix([\n",
      "            [0, 1, 0, 0],\n",
      "            [0, a22, a23, 0],\n",
      "            [0, 0, 0, 1],\n",
      "            [0, a42, a43, 0],\n",
      "        ])\n",
      "\n",
      "    def _init_B(self, km, ke, Mp, Mw, Ip, Iw, l, r, R, g, alpha, beta):\n",
      "        b2 = 2 * km * (Ip + Mp * l ** 2 - Mp * l * r) / (R * r * alpha)\n",
      "        b4 = 2 * km * (Mp * l - r * beta) / (R * r * alpha)\n",
      "\n",
      "        self.B = np.matrix([0, b2, 0, b4]).T\n",
      "\n",
      "    def dinamica(self, state, t, u=0):\n",
      "        return self.A * state + self.B * u\n",
      "\n",
      "    def RK4(self, f, y, t, dt, u=0):\n",
      "        k1 = f(y, t, u)\n",
      "        k2 = f(y + 0.5 * k1 * dt, t + 0.5 * dt, u)\n",
      "        k3 = f(y + 0.5 * k2 * dt, t + 0.5 * dt, u)\n",
      "        k4 = f(y + k3 * dt, t + dt, u)\n",
      "\n",
      "        res = y + float(1) / 6 * dt * (k1 + 2 * k2 + 2 * k3 + k4)\n",
      "        return res\n",
      "\n",
      "    def integrar(self, n, state, dt):\n",
      "        historico = np.array([state])\n",
      "        for i in range(n):\n",
      "            state = self.RK4(self.dinamica, state, i, dt)\n",
      "            historico = np.append(historico, [state], axis=0)\n",
      "        return historico\n",
      "    \n",
      "    def setPIDConstants(self, **kwargs):\n",
      "        self.kp = kwargs[\"kp\"]\n",
      "        self.ki = kwargs[\"ki\"]\n",
      "        self.kd = kwargs[\"kd\"]\n",
      "        self.pidAngle = kwargs[\"angle\"]\n",
      "        self.pidDt = kwargs[\"dt\"]\n",
      "\n",
      "    def estabilizacionEnLineaRecta(self, n, state, dt, control=True):\n",
      "        pid = PID(kp=self.kp, kd=self.kd, ki=self.ki, angle=self.pidAngle, dt=self.pidDt)\n",
      "        historico = np.array([state])\n",
      "        theta = self.sensorGiroscopio(state[2])\n",
      "        sensor = np.array([np.array([0, 0, 0, theta, 0, 0]).reshape(3, 2)])\n",
      "        for i in range(n):\n",
      "            if control: \n",
      "                u = pid.execute_PID(theta)\n",
      "            else: \n",
      "                u = 0\n",
      "            y = self.dinamica(state, i, u)\n",
      "            state = self.RK4(self.dinamica, state, i, dt, u)\n",
      "            historico = np.append(historico, [state], axis=0)\n",
      "            \n",
      "            theta = self.sensorGiroscopio(state[2])\n",
      "            ace = self.sensorAcelerometro(y[1])\n",
      "            sensor = np.append(sensor, [np.array([0, 0, ace, theta, 0, 0]).reshape(3, 2)], axis=0)\n",
      "        return historico, sensor\n",
      "\n",
      "    def sensorGiroscopio(self, theta):\n",
      "        thetaM = theta + np.random.randn() * 0.01\n",
      "        return thetaM\n",
      "\n",
      "    def sensorAcelerometro(self, a):\n",
      "        aM = a + np.random.randn() * 0.01\n",
      "        return aM"
     ],
     "language": "python",
     "prompt_number": 416
    },
    {
     "cell_type": "code",
     "execution_count": null,
     "metadata": {},
     "outputs": [],
     "input": [
      "class PID:\n",
      "    def __init__(self, kp, kd, ki, angle, dt):\n",
      "        self.Kp = kp\n",
      "        self.Kd = kd\n",
      "        self.Ki = ki\n",
      "        self.angle = angle\n",
      "        self.dt = dt\n",
      "        \n",
      "        self.prev_error = 0\n",
      "        self.Ci = 0\n",
      "    \n",
      "    def get_error(self, new_angle):\n",
      "        return new_angle - self.angle\n",
      "    \n",
      "    def execute_PID(self, new_angle):\n",
      "        error = self.get_error(new_angle)\n",
      "        de = error - self.prev_error\n",
      "        \n",
      "        cp = error\n",
      "        self.Ci += error * dt\n",
      "        cd = 0\n",
      "        if dt > 0:\n",
      "            cd = de/dt\n",
      "        \n",
      "        self.prev_error = error\n",
      "        return (self.Kp * cp) + (self.Ki * self.Ci) + (self.Kd*cd)"
     ],
     "language": "python",
     "prompt_number": 413
    },
    {
     "cell_type": "code",
     "execution_count": null,
     "metadata": {},
     "outputs": [],
     "input": [
      "r = Robot(km=0.006123,ke=0.006087,Mp=1.13,Mw=0.03,Ip=0.0041,Iw=0.000039,l=0.07,r=0.051,R=3,g=9.81)"
     ],
     "language": "python",
     "prompt_number": 417
    },
    {
     "cell_type": "code",
     "execution_count": null,
     "metadata": {},
     "outputs": [],
     "input": [
      "initial_state = np.matrix([0, 0, 0, 0]).T\n",
      "n = 1000\n",
      "dt = 0.0001"
     ],
     "language": "python",
     "prompt_number": 439
    },
    {
     "cell_type": "code",
     "execution_count": null,
     "metadata": {},
     "outputs": [],
     "input": [
      "r.setPIDConstants(kp=1,kd=0,ki=0,angle=0,dt=dt)"
     ],
     "language": "python",
     "prompt_number": 440
    },
    {
     "cell_type": "code",
     "execution_count": null,
     "metadata": {},
     "outputs": [],
     "input": [
      "hist = r.integrar(n,initial_state,dt)"
     ],
     "language": "python",
     "prompt_number": 441
    },
    {
     "cell_type": "code",
     "execution_count": null,
     "metadata": {},
     "outputs": [],
     "input": [
      "hist2,sensor2 = r.estabilizacionEnLineaRecta(n, initial_state, dt, control=True)"
     ],
     "language": "python",
     "prompt_number": 442
    },
    {
     "cell_type": "code",
     "execution_count": null,
     "metadata": {},
     "outputs": [
      {
       "output_type": "pyout",
       "prompt_number": 443,
       "text": [
        "<matplotlib.text.Text at 0x7fd2f0764ad0>"
       ],
       "metadata": {}
      },
      {
       "output_type": "display_data",
       "png": "[encoded data removed]",
       "text": [
        "<matplotlib.figure.Figure at 0x7fd2f076f890>"
       ],
       "metadata": {}
      }
     ],
     "input": [
      "pl.plot(np.linspace(0,n*dt,n+1),hist2[:,0])\n",
      "pl.xlabel(\"t(s)\")\n",
      "pl.ylabel(\"x(m)\")"
     ],
     "language": "python",
     "prompt_number": 443
    },
    {
     "cell_type": "code",
     "execution_count": null,
     "metadata": {},
     "outputs": [
      {
       "output_type": "pyout",
       "prompt_number": 436,
       "text": [
        "<matplotlib.text.Text at 0x7fd2f0ab3a90>"
       ],
       "metadata": {}
      },
      {
       "output_type": "display_data",
       "png": "[encoded data removed]",
       "text": [
        "<matplotlib.figure.Figure at 0x7fd2f09698d0>"
       ],
       "metadata": {}
      }
     ],
     "input": [
      "pl.plot(np.linspace(0,n*dt,n+1),hist2[:,1])\n",
      "pl.xlabel(\"t(s)\")\n",
      "pl.ylabel(\"v(m/s)\")"
     ],
     "language": "python",
     "prompt_number": 436
    },
    {
     "cell_type": "code",
     "execution_count": null,
     "metadata": {},
     "outputs": [
      {
       "output_type": "pyout",
       "prompt_number": 444,
       "text": [
        "<matplotlib.text.Text at 0x7fd2f06a2c10>"
       ],
       "metadata": {}
      },
      {
       "output_type": "display_data",
       "png": "[encoded data removed]",
       "text": [
        "<matplotlib.figure.Figure at 0x7fd2f06abcd0>"
       ],
       "metadata": {}
      }
     ],
     "input": [
      "pl.plot(np.linspace(0,n*dt,n+1),hist2[:,2])\n",
      "#pl.plot(np.linspace(0,n*dt,n+1),sensor2[:,1,1])\n",
      "pl.xlabel(\"t(s)\")\n",
      "pl.ylabel(\"phi(rad)\")"
     ],
     "language": "python",
     "prompt_number": 444
    },
    {
     "cell_type": "code",
     "execution_count": null,
     "metadata": {},
     "outputs": [
      {
       "output_type": "pyout",
       "prompt_number": 445,
       "text": [
        "<matplotlib.text.Text at 0x7fd2f057a050>"
       ],
       "metadata": {}
      },
      {
       "output_type": "display_data",
       "png": "[encoded data removed]",
       "text": [
        "<matplotlib.figure.Figure at 0x7fd2f0674f50>"
       ],
       "metadata": {}
      }
     ],
     "input": [
      "pl.plot(np.linspace(0,n*dt,n+1),hist2[:,3])\n",
      "pl.xlabel(\"t(s)\")\n",
      "pl.ylabel(\"omega(rad/s)\")"
     ],
     "language": "python",
     "prompt_number": 445
    },
    {
     "cell_type": "code",
     "execution_count": null,
     "metadata": {},
     "outputs": [],
     "input": [
      ""
     ],
     "language": "python",
     "prompt_number": 446
    },
    {
     "cell_type": "code",
     "execution_count": null,
     "metadata": {},
     "outputs": [],
     "input": [
      ""
     ],
     "language": "python"
    }
   ]
  }
 ],
 "cells": [],
 "metadata": {
  "name": "",
  "signature": "sha256:1bcf8f635ab77b8b0cb63f39ab461d4aad0bab25e6f7c667be14567071a4faa1"
 },
 "nbformat": 3,
 "nbformat_minor": 0
}