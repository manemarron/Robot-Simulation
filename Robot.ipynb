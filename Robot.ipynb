{
 "metadata": {
  "name": "",
  "signature": "sha256:c08fe2b503254a150ae380ca7a6f2ccd2ca9b299bb36186f354d4f7bd9c86083"
 },
 "nbformat": 3,
 "nbformat_minor": 0,
 "worksheets": [
  {
   "cells": [
    {
     "cell_type": "code",
     "collapsed": false,
     "input": [
      "%pylab inline\n",
      "import numpy as np\n",
      "import matplotlib.pyplot as pl"
     ],
     "language": "python",
     "metadata": {},
     "outputs": [
      {
       "output_type": "stream",
       "stream": "stdout",
       "text": [
        "Populating the interactive namespace from numpy and matplotlib\n"
       ]
      }
     ],
     "prompt_number": 8
    },
    {
     "cell_type": "code",
     "collapsed": false,
     "input": [
      "class Robot:\n",
      "    def __init__(self,km,ke,Mp,Mw,Ip,Iw,l,r,R,g): \n",
      "        ''' \n",
      "        Se inicializan las constantes f\u00edsicas del chasis, llantas y motores del sistema.\n",
      "        Par\u00e1metros:\n",
      "        - km: constante de torque de los motores\n",
      "        - ke: constante de fuerza contraelectromotriz\n",
      "        - Mp: masa del chasis (incluyendo motores y llantas)\n",
      "        - Mw: masa de la llanta\n",
      "        - Ip: momento de inercia del robot\n",
      "        - Iw: momento de inercia de las llantas\n",
      "        - l:  distancia entre el centro de gravedad de la llanta y el centro de gravedad del robot\n",
      "        - r:  radio de la llanta\n",
      "        - R:  Resistencia nominal\n",
      "        - g:  constante de aceleraci\u00f3n de la gravedad\n",
      "        '''\n",
      "        self.km = km\n",
      "        self.ke = ke\n",
      "        self.Mp = Mp\n",
      "        self.Mw = Mw\n",
      "        self.Ip = Ip\n",
      "        self.Iw = Iw\n",
      "        self.l  = l\n",
      "        self.r  = r\n",
      "        self.R  = R\n",
      "        self.g  = g\n",
      "        \n",
      "        beta  = 2*Mw + 2*Iw/r**2 + Mp\n",
      "        alpha = Ip*beta + 2*Mp*l**2*(Mw + Iw/r**2)\n",
      "        \n",
      "        self._init_A(km,ke,Mp,Mw,Ip,Iw,l,r,R,g,alpha,beta)\n",
      "        self._init_B(km,ke,Mp,Mw,Ip,Iw,l,r,R,g,alpha,beta)\n",
      "    \n",
      "    def _init_A(self,km,ke,Mp,Mw,Ip,Iw,l,r,R,g,alpha,beta):        \n",
      "        a22 = 2*km*ke*(Mp*l*r - Ip - Mp*l**2)/(R*alpha*r**2)\n",
      "        a23 = Mp**2 * g * l**2 / alpha\n",
      "        a42 = 2*km*ke*(r*beta - Mp*l)/(R*alpha*r**2)\n",
      "        a43 = Mp*g*l*beta/alpha\n",
      "        \n",
      "        self.A = np.matrix([\n",
      "            [0,   1,   0, 0],\n",
      "            [0, a22, a23, 0],\n",
      "            [0,   0,   0, 1],\n",
      "            [0, a42, a43, 0],\n",
      "        ])\n",
      "         \n",
      "    def _init_B(self,km,ke,Mp,Mw,Ip,Iw,l,r,R,g,alpha,beta):\n",
      "        b2 = 2*km*(Ip + Mp*l**2 - Mp*l*r)/(R*r*alpha)\n",
      "        b4 = 2*km*(Mp*l - r*beta)/(R*r*alpha)\n",
      "        \n",
      "        self.B = np.matrix([0,b2,0,b4]).T\n",
      "        \n",
      "    def dinamica(self, state, t, u=0):\n",
      "        return self.A*state + self.B*u    \n",
      "    \n",
      "    def RK4(self, f, y, t, dt):\n",
      "        k1 = f(y,t)\n",
      "        k2 = f(y + 0.5*k1*dt,t+0.5*dt)\n",
      "        k3 = f(y + 0.5*k2*dt,t+0.5*dt)\n",
      "        k4 = f(y + k3*dt,t+dt)\n",
      "        \n",
      "        res = y + float(1)/6*dt*(k1+2*k2+2*k3+k4)\n",
      "        res[2] = self.sensorGiroscopio(res[2])\n",
      "        return res\n",
      "    \n",
      "    def integrar(self,n,state,dt):\n",
      "        historico = np.array([state])\n",
      "        for i in range(n):\n",
      "            state = self.RK4(self.dinamica,state,i,dt)\n",
      "            historico = np.append(historico, [state],axis=0)\n",
      "        return historico\n",
      "    \n",
      "    def sensorGiroscopio(self,theta):\n",
      "        thetaM=theta+np.random.normal(0,1)\n",
      "        return thetaM\n",
      "    \n",
      "    def sensorAcelerometro(self,a):\n",
      "        aM=a+np.random.normal(0)\n",
      "        return aM\n"
     ],
     "language": "python",
     "metadata": {},
     "outputs": [],
     "prompt_number": 193
    },
    {
     "cell_type": "code",
     "collapsed": false,
     "input": [
      "r = Robot(km=0.006123,ke=0.006087,Mp=1.13,Mw=0.03,Ip=0.0041,Iw=0.000039,l=0.07,r=0.051,R=3,g=9.81)"
     ],
     "language": "python",
     "metadata": {},
     "outputs": [],
     "prompt_number": 194
    },
    {
     "cell_type": "code",
     "collapsed": false,
     "input": [
      "initial_state = np.matrix([1,1,0,0]).T\n",
      "n = 50\n",
      "dt = 0.05"
     ],
     "language": "python",
     "metadata": {},
     "outputs": [],
     "prompt_number": 195
    },
    {
     "cell_type": "code",
     "collapsed": false,
     "input": [
      "hist = r.integrar(n,initial_state,dt)"
     ],
     "language": "python",
     "metadata": {},
     "outputs": [],
     "prompt_number": 196
    },
    {
     "cell_type": "code",
     "collapsed": false,
     "input": [
      "pl.plot(np.linspace(0,n*dt,n+1),hist[:,0])\n",
      "pl.xlabel(\"t(s)\")\n",
      "pl.ylabel(\"x(m)\")"
     ],
     "language": "python",
     "metadata": {},
     "outputs": [
      {
       "metadata": {},
       "output_type": "pyout",
       "prompt_number": 197,
       "text": [
        "<matplotlib.text.Text at 0x7f14b3065990>"
       ]
      },
      {
       "metadata": {},
       "output_type": "display_data",
       "png": "[encoded data removed]",
       "text": [
        "<matplotlib.figure.Figure at 0x7f14b2feed50>"
       ]
      }
     ],
     "prompt_number": 197
    },
    {
     "cell_type": "code",
     "collapsed": false,
     "input": [
      "pl.plot(np.linspace(0,n*dt,n+1),hist[:,1])\n",
      "pl.xlabel(\"t(s)\")\n",
      "pl.ylabel(\"v(m/s)\")"
     ],
     "language": "python",
     "metadata": {},
     "outputs": [
      {
       "metadata": {},
       "output_type": "pyout",
       "prompt_number": 198,
       "text": [
        "<matplotlib.text.Text at 0x7f14b2fe5c50>"
       ]
      },
      {
       "metadata": {},
       "output_type": "display_data",
       "png": "[encoded data removed]",
       "text": [
        "<matplotlib.figure.Figure at 0x7f14b2fd1fd0>"
       ]
      }
     ],
     "prompt_number": 198
    },
    {
     "cell_type": "code",
     "collapsed": false,
     "input": [
      "pl.plot(np.linspace(0,n*dt,n+1),hist[:,2])\n",
      "pl.xlabel(\"t(s)\")\n",
      "pl.ylabel(\"phi(rad)\")"
     ],
     "language": "python",
     "metadata": {},
     "outputs": [
      {
       "metadata": {},
       "output_type": "pyout",
       "prompt_number": 199,
       "text": [
        "<matplotlib.text.Text at 0x7f14b2f9bb10>"
       ]
      },
      {
       "metadata": {},
       "output_type": "display_data",
       "png": "[encoded data removed]",
       "text": [
        "<matplotlib.figure.Figure at 0x7f14b2e5c890>"
       ]
      }
     ],
     "prompt_number": 199
    },
    {
     "cell_type": "code",
     "collapsed": false,
     "input": [
      "pl.plot(np.linspace(0,n*dt,n+1),hist[:,3])\n",
      "pl.xlabel(\"t(s)\")\n",
      "pl.ylabel(\"omega(rad/s)\")"
     ],
     "language": "python",
     "metadata": {},
     "outputs": [
      {
       "metadata": {},
       "output_type": "pyout",
       "prompt_number": 200,
       "text": [
        "<matplotlib.text.Text at 0x7f14b2dec2d0>"
       ]
      },
      {
       "metadata": {},
       "output_type": "display_data",
       "png": "[encoded data removed]",
       "text": [
        "<matplotlib.figure.Figure at 0x7f14b2d86e90>"
       ]
      }
     ],
     "prompt_number": 200
    },
    {
     "cell_type": "code",
     "collapsed": false,
     "input": [],
     "language": "python",
     "metadata": {},
     "outputs": []
    }
   ],
   "metadata": {}
  }
 ]
}