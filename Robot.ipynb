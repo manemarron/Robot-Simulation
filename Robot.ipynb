{
 "metadata": {
  "name": "",
  "signature": "sha256:81928c77942dadba74039703639cbf67895fac40da2ff4a518dfe27af69c023a"
 },
 "nbformat": 3,
 "nbformat_minor": 0,
 "worksheets": [
  {
   "cells": [
    {
     "cell_type": "code",
     "collapsed": false,
     "input": [
      "class robot():\n",
      "    def __init__(self, mk,mn,l,r):\n",
      "        self.mk = mk\n",
      "        self.mn = mn\n",
      "        self.l = l\n",
      "        self.r = r\n",
      "        \n",
      "    def a22(self):\n",
      "        return -10\n",
      "        \n",
      "    \n",
      "    def dinamica(self, state):\n",
      "        x0 = state[1]\n",
      "        x1 = \n",
      "        theta0\n",
      "        theta1"
     ],
     "language": "python",
     "metadata": {},
     "outputs": []
    }
   ],
   "metadata": {}
  }
 ]
}