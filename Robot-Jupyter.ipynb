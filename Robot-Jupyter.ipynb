{
 "cells": [
  {
   "cell_type": "code",
   "execution_count": 1,
   "metadata": {
    "collapsed": false
   },
   "outputs": [
    {
     "name": "stdout",
     "output_type": "stream",
     "text": [
      "Populating the interactive namespace from numpy and matplotlib\n"
     ]
    }
   ],
   "source": [
    "%pylab inline\n",
    "import numpy as np\n",
    "import matplotlib.pyplot as pl"
   ]
  },
  {
   "cell_type": "code",
   "execution_count": 2,
   "metadata": {
    "collapsed": false
   },
   "outputs": [],
   "source": [
    "class Robot:\n",
    "    def __init__(self,km,ke,Mp,Mw,Ip,Iw,l,r,R,g): \n",
    "        ''' \n",
    "        Se inicializan las constantes físicas del chasis, llantas y motores del sistema.\n",
    "        Parámetros:\n",
    "        - km: constante de torque de los motores\n",
    "        - ke: constante de fuerza contraelectromotriz\n",
    "        - Mp: masa del chasis (incluyendo motores y llantas)\n",
    "        - Mw: masa de la llanta\n",
    "        - Ip: momento de inercia del robot\n",
    "        - Iw: momento de inercia de las llantas\n",
    "        - l:  distancia entre el centro de gravedad de la llanta y el centro de gravedad del robot\n",
    "        - r:  radio de la llanta\n",
    "        - R:  Resistencia nominal\n",
    "        - g:  constante de aceleración de la gravedad\n",
    "        '''\n",
    "        self.km = km\n",
    "        self.ke = ke\n",
    "        self.Mp = Mp\n",
    "        self.Mw = Mw\n",
    "        self.Ip = Ip\n",
    "        self.Iw = Iw\n",
    "        self.l  = l\n",
    "        self.r  = r\n",
    "        self.R  = R\n",
    "        self.g  = g\n",
    "        \n",
    "        beta  = 2*Mw + 2*Iw/r**2 + Mp\n",
    "        alpha = Ip*beta + 2*Mp*l**2*(Mw + Iw/r**2)\n",
    "        \n",
    "        self._init_A(km,ke,Mp,Mw,Ip,Iw,l,r,R,g,alpha,beta)\n",
    "        self._init_B(km,ke,Mp,Mw,Ip,Iw,l,r,R,g,alpha,beta)\n",
    "    \n",
    "    def _init_A(self,km,ke,Mp,Mw,Ip,Iw,l,r,R,g,alpha,beta):        \n",
    "        a22 = 2*km*ke*(Mp*l*r - Ip - Mp*l**2)/(R*alpha*r**2)\n",
    "        a23 = Mp**2 * g * l**2 / alpha\n",
    "        a42 = 2*km*ke*(r*beta - Mp*l)/(R*alpha*r**2)\n",
    "        a43 = Mp*g*l*beta/alpha\n",
    "        \n",
    "        self.A = np.matrix([\n",
    "            [0,   1,   0, 0],\n",
    "            [0, a22, a23, 0],\n",
    "            [0,   0,   0, 1],\n",
    "            [0, a42, a43, 0],\n",
    "        ])\n",
    "         \n",
    "    def _init_B(self,km,ke,Mp,Mw,Ip,Iw,l,r,R,g,alpha,beta):\n",
    "        b2 = 2*km*(Ip + Mp*l**2 - Mp*l*r)/(R*r*alpha)\n",
    "        b4 = 2*km*(Mp*l - r*beta)/(R*r*alpha)\n",
    "        \n",
    "        self.B = np.matrix([0,b2,0,b4]).T\n",
    "        \n",
    "    def dinamica(self, state, t, u=0):\n",
    "        return self.A*state + self.B*u    \n",
    "    \n",
    "    def RK4(self, f, y, t, dt):\n",
    "        k1 = f(y,t)\n",
    "        k2 = f(y + 0.5*k1*dt,t+0.5*dt)\n",
    "        k3 = f(y + 0.5*k2*dt,t+0.5*dt)\n",
    "        k4 = f(y + k3*dt,t+dt)\n",
    "        \n",
    "        res = y + float(1)/6*dt*(k1+2*k2+2*k3+k4)\n",
    "        return res\n",
    "    \n",
    "    def integrar(self,n,state,dt):\n",
    "        historico = np.array([state])\n",
    "        sensor = np.array([self.sensorGiroscopio(state[2])])\n",
    "        for i in range(n):\n",
    "            state = self.RK4(self.dinamica,state,i,dt)\n",
    "            historico = np.append(historico, [state],axis=0)\n",
    "            sensor = np.append(sensor, self.sensorGiroscopio(state[2]))\n",
    "        return historico,sensor\n",
    "    \n",
    "    def sensorGiroscopio(self,theta):\n",
    "        thetaM=theta+np.random.randn()*0.01\n",
    "        return thetaM\n",
    "    \n",
    "    def sensorAcelerometro(self,a):\n",
    "        aM=a+np.random.randn()*0.01\n",
    "        return aM\n"
   ]
  },
  {
   "cell_type": "code",
   "execution_count": 3,
   "metadata": {
    "collapsed": false
   },
   "outputs": [],
   "source": [
    "r = Robot(km=0.006123,ke=0.006087,Mp=1.13,Mw=0.03,Ip=0.0041,Iw=0.000039,l=0.07,r=0.051,R=3,g=9.81)"
   ]
  },
  {
   "cell_type": "code",
   "execution_count": 16,
   "metadata": {
    "collapsed": false
   },
   "outputs": [],
   "source": [
    "initial_state = np.matrix([0,0,0,1]).T\n",
    "n = 200\n",
    "dt = 0.001"
   ]
  },
  {
   "cell_type": "code",
   "execution_count": 17,
   "metadata": {
    "collapsed": false
   },
   "outputs": [],
   "source": [
    "hist,sensor = r.integrar(n,initial_state,dt)"
   ]
  },
  {
   "cell_type": "code",
   "execution_count": 18,
   "metadata": {
    "collapsed": false
   },
   "outputs": [
    {
     "data": {
      "text/plain": [
       "<matplotlib.text.Text at 0x7fe5f7011390>"
      ]
     },
     "execution_count": 18,
     "metadata": {},
     "output_type": "execute_result"
    },
    {
     "data": {
      "image/png": "[encoded data removed]",
      "text/plain": [
       "<matplotlib.figure.Figure at 0x7fe5f58e4048>"
      ]
     },
     "metadata": {},
     "output_type": "display_data"
    }
   ],
   "source": [
    "pl.plot(np.linspace(0,n*dt,n+1),hist[:,0])\n",
    "pl.xlabel(\"t(s)\")\n",
    "pl.ylabel(\"x(m)\")"
   ]
  },
  {
   "cell_type": "code",
   "execution_count": 19,
   "metadata": {
    "collapsed": false
   },
   "outputs": [
    {
     "data": {
      "text/plain": [
       "<matplotlib.text.Text at 0x7fe5f5866cc0>"
      ]
     },
     "execution_count": 19,
     "metadata": {},
     "output_type": "execute_result"
    },
    {
     "data": {
      "image/png": "[encoded data removed]",
      "text/plain": [
       "<matplotlib.figure.Figure at 0x7fe5f70119b0>"
      ]
     },
     "metadata": {},
     "output_type": "display_data"
    }
   ],
   "source": [
    "pl.plot(np.linspace(0,n*dt,n+1),hist[:,1])\n",
    "pl.xlabel(\"t(s)\")\n",
    "pl.ylabel(\"v(m/s)\")"
   ]
  },
  {
   "cell_type": "code",
   "execution_count": 20,
   "metadata": {
    "collapsed": false
   },
   "outputs": [
    {
     "data": {
      "text/plain": [
       "<matplotlib.text.Text at 0x7fe5f57d16d8>"
      ]
     },
     "execution_count": 20,
     "metadata": {},
     "output_type": "execute_result"
    },
    {
     "data": {
      "image/png": "[encoded data removed]",
      "text/plain": [
       "<matplotlib.figure.Figure at 0x7fe5f5871a20>"
      ]
     },
     "metadata": {},
     "output_type": "display_data"
    }
   ],
   "source": [
    "pl.plot(np.linspace(0,n*dt,n+1),hist[:,2])\n",
    "pl.plot(np.linspace(0,n*dt,n+1),sensor)\n",
    "pl.xlabel(\"t(s)\")\n",
    "pl.ylabel(\"phi(rad)\")"
   ]
  },
  {
   "cell_type": "code",
   "execution_count": 21,
   "metadata": {
    "collapsed": false
   },
   "outputs": [
    {
     "data": {
      "text/plain": [
       "<matplotlib.text.Text at 0x7fe5f57abeb8>"
      ]
     },
     "execution_count": 21,
     "metadata": {},
     "output_type": "execute_result"
    },
    {
     "data": {
      "image/png": "[encoded data removed]",
      "text/plain": [
       "<matplotlib.figure.Figure at 0x7fe5f587b390>"
      ]
     },
     "metadata": {},
     "output_type": "display_data"
    }
   ],
   "source": [
    "pl.plot(np.linspace(0,n*dt,n+1),hist[:,3])\n",
    "pl.xlabel(\"t(s)\")\n",
    "pl.ylabel(\"omega(rad/s)\")"
   ]
  },
  {
   "cell_type": "code",
   "execution_count": null,
   "metadata": {
    "collapsed": false
   },
   "outputs": [],
   "source": []
  }
 ],
 "metadata": {
  "kernelspec": {
   "display_name": "Python 3",
   "language": "python",
   "name": "python3"
  },
  "language_info": {
   "codemirror_mode": {
    "name": "ipython",
    "version": 3
   },
   "file_extension": ".py",
   "mimetype": "text/x-python",
   "name": "python",
   "nbconvert_exporter": "python",
   "pygments_lexer": "ipython3",
   "version": "3.4.3"
  }
 },
 "nbformat": 4,
 "nbformat_minor": 0
}
