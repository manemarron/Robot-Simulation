{
 "metadata": {
  "name": "",
  "signature": "sha256:1dd7802b3c18b9658e4a96a65e40ff3424c8eba38e40ea6f5fe55987584d2ba7"
 },
 "nbformat": 3,
 "nbformat_minor": 0,
 "worksheets": []
}