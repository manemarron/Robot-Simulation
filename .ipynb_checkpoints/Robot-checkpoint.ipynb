{
 "metadata": {
  "name": "",
  "signature": "sha256:e2d18959fec57c28630857f8f022b84a6094847f8bc524939d2ff6aa5fd1aefe"
 },
 "nbformat": 3,
 "nbformat_minor": 0,
 "worksheets": [
  {
   "cells": [
    {
     "cell_type": "code",
     "collapsed": false,
     "input": [
      "%pylab inline\n",
      "import numpy as np"
     ],
     "language": "python",
     "metadata": {},
     "outputs": [
      {
       "output_type": "stream",
       "stream": "stdout",
       "text": [
        "Populating the interactive namespace from numpy and matplotlib\n"
       ]
      }
     ],
     "prompt_number": 1
    },
    {
     "cell_type": "code",
     "collapsed": false,
     "input": [
      "class robot():\n",
      "    def __init__(self, mk,mn,l,r,u,b):\n",
      "        self.mk = mk\n",
      "        self.mn = mn\n",
      "        self.l = l\n",
      "        self.r = r\n",
      "        self.u = u\n",
      "        self.b = b\n",
      "        self.g = 9.81\n",
      "        \n",
      "    def a22(self):\n",
      "        return -10*self.b/(14*self.mk+5*self.mn)\n",
      "    def a23(self):\n",
      "        return -5*self.mn/(14*self.mk+5*self.mn)\n",
      "    def a42(self):\n",
      "        return 5*self.b/(14*self.mk*self.l+5*self.mn*self.l)\n",
      "    def a43(self):\n",
      "        return (7*self.g*self.mk + 5*self.g*self.mn)/(14*self.mk*self.l+5*self.mn*self.l)\n",
      "    def b2(self):\n",
      "        return -(10*self.l + 5*self.r)/(14*self.mk*self.r + 5*self.mn*self.r*self.l)\n",
      "    def b4(self):\n",
      "        return -(5*self.l*self.mn + 7*self.mk*self.r + 5*self.mn*self.r)/(14*self.l*self.l*self.mk*self.mn*self.r + 5*self.l*self.l*self.mn*self.mn*self.r)\n",
      "    \n",
      "    def A(self):\n",
      "        return np.matrix([[0,1,0,0],[0,self.a22(),self.a23(),0],[0,0,0,1],[0,self.a42(),self.a43(),0]])\n",
      "    def B(self):\n",
      "        return np.matrix([0,self.b2(),0,self.b4()]).T\n",
      "    \n",
      "    \n",
      "        \n",
      "    \n",
      "    def dinamica(self, state):\n",
      "        return self.A()*state+self.B()*self.u\n"
     ],
     "language": "python",
     "metadata": {},
     "outputs": [],
     "prompt_number": 23
    },
    {
     "cell_type": "code",
     "collapsed": false,
     "input": [
      "r = robot(0.1,0.2,0.1,0.05,1,1)"
     ],
     "language": "python",
     "metadata": {},
     "outputs": [],
     "prompt_number": 24
    },
    {
     "cell_type": "code",
     "collapsed": false,
     "input": [
      "r.dinamica(np.matrix([0,0,0,0]).T)"
     ],
     "language": "python",
     "metadata": {},
     "outputs": [
      {
       "metadata": {},
       "output_type": "pyout",
       "prompt_number": 25,
       "text": [
        "matrix([[   0.        ],\n",
        "        [ -16.66666667],\n",
        "        [   0.        ],\n",
        "        [-770.83333333]])"
       ]
      }
     ],
     "prompt_number": 25
    },
    {
     "cell_type": "code",
     "collapsed": false,
     "input": [],
     "language": "python",
     "metadata": {},
     "outputs": []
    }
   ],
   "metadata": {}
  }
 ]
}